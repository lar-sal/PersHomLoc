{
 "cells": [
  {
   "cell_type": "markdown",
   "metadata": {},
   "source": [
    "# Using the PersHomLoc package\n",
    "This is a simple tutorial showing you how to use the PersHomLoc package to localize persistent homology."
   ]
  },
  {
   "cell_type": "markdown",
   "metadata": {},
   "source": [
    "## Content\n",
    "This tutorial shows you the three steps required to localize persistent homology using our package\n",
    "\n",
    "1) Import the function \"localize\"\n",
    "\n",
    "2) Make sure \"localize\" is given correct input\n",
    "\n",
    "3) Interpreting the output of \"localize\"\n",
    "\n",
    "A description of the algorithms that are implemented in this package is presented in the paper (Refer to paper later) "
   ]
  },
  {
   "cell_type": "markdown",
   "metadata": {},
   "source": [
    "## STEP 1: Importing the Interface\n",
    "We will operate the package via the function called \"localize\" in the file \"interface.py\". This is just a wrapper function that makes it a little bit easier to use the package and the code and data structures can be also be accesssed directly. "
   ]
  },
  {
   "cell_type": "code",
   "execution_count": 1,
   "metadata": {},
   "outputs": [],
   "source": [
    "from interface import localize"
   ]
  },
  {
   "cell_type": "markdown",
   "metadata": {},
   "source": [
    "## STEP 2: Encoding an Input Instance\n",
    "The function \"localize\" needs 4 arguements, the first three of which are used to specify a problem instance. This means providing the function with a (binary) matrix, a (binary) target vector and a weight function for each column. We use the following concrete example where... \n",
    "\n",
    "- the matrix $A$ is  \n",
    "$$ A =  \\begin{pmatrix}\n",
    "c_0 & c_1 & c_2 & c_3\n",
    "\\end{pmatrix}=\n",
    "\\begin{pmatrix}\n",
    "1 & 0 & 0 & 1 \\\\\n",
    "1 & 1 & 1 & 0 \\\\\n",
    "0 & 1 & 1 & 1 \\\\\n",
    "0 & 1 & 1 & 1 \\\\\n",
    "1 & 1 & 0 & 0 \\\\\n",
    "0 & 1 & 1 & 1 \\\\\n",
    "1 & 0 & 0 & 1\n",
    "\\end{pmatrix}\n",
    "$$\n",
    "- the target vector $v$ is \n",
    "$$\n",
    "v = \n",
    "\\begin{pmatrix}\n",
    "1 \\\\\n",
    "1 \\\\\n",
    "0 \\\\\n",
    "0 \\\\\n",
    "0 \\\\\n",
    "0 \\\\\n",
    "1\n",
    "\\end{pmatrix} \n",
    "$$\n",
    "- the weight function $w\\colon \\{c_0, c_1, c_2, c_3\\} \\to \\mathbb{R}$ is \n",
    "$$w(c_0) = 2.3$$\n",
    "$$w(c_1) = 4.1$$\n",
    "$$w(c_2) = 1.2$$\n",
    "$$w(c_3) = 3.5$$"
   ]
  },
  {
   "cell_type": "markdown",
   "metadata": {},
   "source": [
    "### First: Coding the matrix\n",
    "The matrix A should be coded as a list of columns. Each column should in turn be represented as a list containing the index of the rows where it takes the value $1$. Concretely, columns of $A$ should be encoded like this:"
   ]
  },
  {
   "cell_type": "code",
   "execution_count": 2,
   "metadata": {},
   "outputs": [],
   "source": [
    "c_0 = [0, 1, 4, 6]\n",
    "c_1 = [1, 2, 3, 4, 5]\n",
    "c_2 = [1, 2, 3, 5]\n",
    "c_3 = [0, 2, 3, 5, 6]"
   ]
  },
  {
   "cell_type": "markdown",
   "metadata": {},
   "source": [
    "The matrix $A$ then becomes:"
   ]
  },
  {
   "cell_type": "code",
   "execution_count": 3,
   "metadata": {},
   "outputs": [],
   "source": [
    "matrix = [c_0, c_1, c_2, c_3]"
   ]
  },
  {
   "cell_type": "markdown",
   "metadata": {},
   "source": [
    "### Second: Coding the target\n",
    "The target vector is coded in the same way as the columns, so we have:"
   ]
  },
  {
   "cell_type": "code",
   "execution_count": 4,
   "metadata": {},
   "outputs": [],
   "source": [
    "target = [0,1,6]"
   ]
  },
  {
   "cell_type": "markdown",
   "metadata": {},
   "source": [
    "### Third: Coding the weights\n",
    "The weight function should also be represented as a list, where the weight of the first column is in the first entry, the weight of the second column is in the second entry and so on. In this concrete example we have:"
   ]
  },
  {
   "cell_type": "code",
   "execution_count": 5,
   "metadata": {},
   "outputs": [],
   "source": [
    "weight = [2.3, 4.1, 1.2, 3.5]"
   ]
  },
  {
   "cell_type": "markdown",
   "metadata": {},
   "source": [
    "## Step 3: Choose which algorithm you want to use\n",
    "The final step is to choose which algorithm you want to use to solve the problem. This is done by setting the fourth variable to one of the three following strings \"ILP\", \"DIJKSTRA\" or \"TREEWIDTH\"."
   ]
  },
  {
   "cell_type": "markdown",
   "metadata": {},
   "source": [
    "### Option 1: Using the ILP-solver\n",
    "This will typically be the most efficient solution but it requires that you can run Gurobi. To do so you will need a license. You can get a free academic licenses on their webpage: https://www.gurobi.com/. The printed output is produced by Gurobi. The tuple returned by \"localize\" is explained below."
   ]
  },
  {
   "cell_type": "code",
   "execution_count": 6,
   "metadata": {},
   "outputs": [
    {
     "name": "stdout",
     "output_type": "stream",
     "text": [
      "Using license file C:\\Users\\Sunniva\\gurobi.lic\n",
      "Academic license - for non-commercial use only - expires 2021-03-14\n",
      "Gurobi Optimizer version 9.1.0 build v9.1.0rc0 (win64)\n",
      "Thread count: 2 physical cores, 4 logical processors, using up to 4 threads\n",
      "Optimize a model with 7 rows, 11 columns and 25 nonzeros\n",
      "Model fingerprint: 0x00ea8d90\n",
      "Variable types: 0 continuous, 11 integer (4 binary)\n",
      "Coefficient statistics:\n",
      "  Matrix range     [1e+00, 2e+00]\n",
      "  Objective range  [1e+00, 4e+00]\n",
      "  Bounds range     [1e+00, 1e+00]\n",
      "  RHS range        [1e+00, 1e+00]\n",
      "Presolve removed 7 rows and 11 columns\n",
      "Presolve time: 0.00s\n",
      "Presolve: All rows and columns removed\n",
      "\n",
      "Explored 0 nodes (0 simplex iterations) in 0.02 seconds\n",
      "Thread count was 1 (of 4 available processors)\n",
      "\n",
      "Solution count 1: 4.7 \n",
      "\n",
      "Optimal solution found (tolerance 1.00e-04)\n",
      "Best objective 4.700000000000e+00, best bound 4.700000000000e+00, gap 0.0000%\n"
     ]
    },
    {
     "data": {
      "text/plain": [
       "(4.7, [2, 3])"
      ]
     },
     "execution_count": 6,
     "metadata": {},
     "output_type": "execute_result"
    }
   ],
   "source": [
    "method = \"ILP\"\n",
    "localize(matrix, target, weight, method)"
   ]
  },
  {
   "cell_type": "markdown",
   "metadata": {},
   "source": [
    "#### Output \n",
    "The output (4.7, [2,3]) means that the $x$ such that $Ax = v$ that minimizes $\\sum_ {x_i = 1}w(c_i)$ is $x = \\begin{pmatrix}\n",
    "0 \\\\\n",
    "0 \\\\\n",
    "1 \\\\\n",
    "1\n",
    "\\end{pmatrix} $\n",
    ". This $x$ makes $\\sum_ {x_i = 1}w(c_i) = 4.7$."
   ]
  },
  {
   "cell_type": "markdown",
   "metadata": {},
   "source": [
    "### Option 2: Using Generalized Dijkstra\n",
    "This algorithm has the advantage of running in polynomial time when looking for cycles in dimension $1$. This method only returns the value of an optimal solution at the moment."
   ]
  },
  {
   "cell_type": "code",
   "execution_count": 7,
   "metadata": {},
   "outputs": [
    {
     "data": {
      "text/plain": [
       "(4.7, [])"
      ]
     },
     "execution_count": 7,
     "metadata": {},
     "output_type": "execute_result"
    }
   ],
   "source": [
    "method = \"DIJKSTRA\"\n",
    "localize(matrix, target, weight, method)"
   ]
  },
  {
   "cell_type": "markdown",
   "metadata": {},
   "source": [
    "### Option 3: Using a Treedecomposition\n",
    "This algorithm has the advantage of solving the problem in FPT-time."
   ]
  },
  {
   "cell_type": "code",
   "execution_count": 8,
   "metadata": {},
   "outputs": [
    {
     "data": {
      "text/plain": [
       "(4.7, [3, 2])"
      ]
     },
     "execution_count": 8,
     "metadata": {},
     "output_type": "execute_result"
    }
   ],
   "source": [
    "method = \"TREEWIDTH\"\n",
    "localize(matrix, target, weight, method)"
   ]
  },
  {
   "cell_type": "markdown",
   "metadata": {},
   "source": [
    "#### Width of the decomposition\n",
    "The width of the decomposition of the graph associated to a matrix is important to asses how efficient this algorithm will be. To get the width of the matrix type"
   ]
  },
  {
   "cell_type": "code",
   "execution_count": 12,
   "metadata": {},
   "outputs": [
    {
     "data": {
      "text/plain": [
       "3"
      ]
     },
     "execution_count": 12,
     "metadata": {},
     "output_type": "execute_result"
    }
   ],
   "source": [
    "method = \"COMPUTE_TREEWIDTH\"\n",
    "localize(matrix, target, weight, method)"
   ]
  },
  {
   "cell_type": "markdown",
   "metadata": {},
   "source": [
    "From this otuput we can see that the width of the decomposition of the graph associated to A is 3."
   ]
  },
  {
   "cell_type": "markdown",
   "metadata": {},
   "source": [
    "# Concluding Remarks\n",
    "This was a short tutorial on how you can use the package PersHomLoc through the interface function \"localize\". If you have questions about our code please do not hesitate to contact us. "
   ]
  },
  {
   "cell_type": "code",
   "execution_count": null,
   "metadata": {},
   "outputs": [],
   "source": []
  }
 ],
 "metadata": {
  "kernelspec": {
   "display_name": "Python 3",
   "language": "python",
   "name": "python3"
  },
  "language_info": {
   "codemirror_mode": {
    "name": "ipython",
    "version": 3
   },
   "file_extension": ".py",
   "mimetype": "text/x-python",
   "name": "python",
   "nbconvert_exporter": "python",
   "pygments_lexer": "ipython3",
   "version": "3.7.7"
  }
 },
 "nbformat": 4,
 "nbformat_minor": 4
}
